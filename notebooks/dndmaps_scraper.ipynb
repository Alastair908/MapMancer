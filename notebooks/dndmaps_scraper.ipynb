{
 "cells": [
  {
   "cell_type": "markdown",
   "metadata": {},
   "source": [
    "## Imports"
   ]
  },
  {
   "cell_type": "code",
   "execution_count": 2,
   "metadata": {},
   "outputs": [],
   "source": [
    "import praw \n",
    "import requests \n",
    "import os\n",
    "import re"
   ]
  },
  {
   "cell_type": "markdown",
   "metadata": {},
   "source": [
    "## Scrape list of posts"
   ]
  },
  {
   "cell_type": "code",
   "execution_count": 3,
   "metadata": {},
   "outputs": [],
   "source": [
    "# Initialize the Reddit instance\n",
    "reddit = praw.Reddit(\n",
    "    client_id='OPGdWFYBK_feO0qNCIwe5Q',\n",
    "    client_secret='Y0RJKEq11FKaNHpbXgsynB18XI5jkQ', \n",
    "    user_agent='python:myRedditImageDownloader:v1.0 (by /u/MapMancerDownload)'\n",
    ")"
   ]
  },
  {
   "cell_type": "code",
   "execution_count": 5,
   "metadata": {},
   "outputs": [],
   "source": [
    "# Define the subreddit and the number of posts you want\n",
    "subreddit = reddit.subreddit('battlemaps')\n",
    "hot_posts = subreddit.hot(limit=5)"
   ]
  },
  {
   "cell_type": "code",
   "execution_count": 6,
   "metadata": {},
   "outputs": [],
   "source": [
    "# Add title, flair and url to a list for each post, then append to master list\n",
    "image_list = []\n",
    "\n",
    "for post in hot_posts:\n",
    "    post_deets = []\n",
    "    if post.url.endswith(('jpg', 'jpeg', 'png')):\n",
    "        \n",
    "        title = post.title\n",
    "        title = re.sub(r'\\[.*?\\]', '', title).strip()\n",
    "        post_deets.append(title)\n",
    "        \n",
    "        flair = post.link_flair_text\n",
    "        if type(flair) == str:\n",
    "            flair = re.sub(r'\\s*Map\\s*', '', flair).strip()\n",
    "            post_deets.append(flair)\n",
    "        \n",
    "        post_deets.append(post.url)\n",
    "\n",
    "        image_list.append(post_deets)"
   ]
  },
  {
   "cell_type": "code",
   "execution_count": 10,
   "metadata": {},
   "outputs": [],
   "source": [
    "# Add title, flair and url to a list for each post, then append to master list\n",
    "image_list = []\n",
    "\n",
    "for post in hot_posts:\n",
    "    post_deets = []\n",
    "    if post.url.endswith(('jpg', 'jpeg', 'png')) and not post.stickied:\n",
    "        \n",
    "        title = post.title\n",
    "        title = re.sub(r'\\[.*?\\]', '', title).strip()\n",
    "        post_deets.append(title)\n",
    "        \n",
    "        flair = post.link_flair_text\n",
    "        if type(flair) == str:\n",
    "            flair = re.sub(r'\\s*Map\\s*', '', flair).strip()\n",
    "            post_deets.append(flair)\n",
    "        \n",
    "        post_deets.append(post.url)\n",
    "        \n",
    "        image_list.append(post_deets)"
   ]
  },
  {
   "cell_type": "code",
   "execution_count": 11,
   "metadata": {},
   "outputs": [
    {
     "data": {
      "text/plain": [
       "[]"
      ]
     },
     "execution_count": 11,
     "metadata": {},
     "output_type": "execute_result"
    }
   ],
   "source": [
    "image_list"
   ]
  },
  {
   "cell_type": "markdown",
   "metadata": {},
   "source": [
    "## Download posts"
   ]
  },
  {
   "cell_type": "code",
   "execution_count": 8,
   "metadata": {},
   "outputs": [],
   "source": [
    "def download_image(url, folder):\n",
    "    if not os.path.exists(folder):\n",
    "        os.makedirs(folder)\n",
    "    \n",
    "    response = requests.get(url, stream=True)\n",
    "    file_name = os.path.join(folder, url.split(\"/\")[-1])\n",
    "    \n",
    "    with open(file_name, 'wb') as file:\n",
    "        for chunk in response.iter_content(chunk_size=8192):\n",
    "            file.write(chunk)"
   ]
  },
  {
   "cell_type": "code",
   "execution_count": 9,
   "metadata": {},
   "outputs": [],
   "source": [
    "for next_post in image_list:\n",
    "    url = next_post[-1]\n",
    "    download_image(url, '../images')"
   ]
  },
  {
   "cell_type": "code",
   "execution_count": null,
   "metadata": {},
   "outputs": [],
   "source": []
  }
 ],
 "metadata": {
  "kernelspec": {
   "display_name": "MapMancer",
   "language": "python",
   "name": "python3"
  },
  "language_info": {
   "codemirror_mode": {
    "name": "ipython",
    "version": 3
   },
   "file_extension": ".py",
   "mimetype": "text/x-python",
   "name": "python",
   "nbconvert_exporter": "python",
   "pygments_lexer": "ipython3",
   "version": "3.10.6"
  },
  "orig_nbformat": 4
 },
 "nbformat": 4,
 "nbformat_minor": 2
}
